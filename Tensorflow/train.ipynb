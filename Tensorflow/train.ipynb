{
 "cells": [
  {
   "cell_type": "code",
   "execution_count": 7,
   "metadata": {
    "collapsed": true
   },
   "outputs": [],
   "source": [
    "!cat /home/chen/chengxu/LSHVec-master/my/traindata/lab*.fq > /home/chen/chengxu/LSHVec-master/my/data.fastq\n"
   ]
  },
  {
   "cell_type": "code",
   "execution_count": 8,
   "outputs": [],
   "source": [
    "!python /home/chen/chengxu/LSHVec-master/scripts/fastseq/fastqToSeq.py -i /home/chen/chengxu/LSHVec-master/my/data.fastq -o /home/chen/chengxu/LSHVec-master/my/data.seq\n"
   ],
   "metadata": {
    "collapsed": false,
    "pycharm": {
     "name": "#%%\n"
    }
   }
  },
  {
   "cell_type": "code",
   "execution_count": 9,
   "outputs": [
    {
     "name": "stdout",
     "output_type": "stream",
     "text": [
      "1\tlabel|2|.11861_6_61.1-9598/1\tTATGCCGAACAAAGGTACGAAAAATCGGGGCGAAGATACGGTTTTGCGCTTGTCCGGCTGTCGGAAACAGTTGTTTTGCTTTTGGTTTTTATGTCTTAATTGATTGATTTATATAGGTTTATTGTGTGTGTCGAAATGGCGGAGTGAGGG\r\n",
      "2\tlabel|2|.11861_6_61.1-9596/1\tCCTTTTCGGCCGGTACGGTATCCGCCGTCATGAAAGGCCCGTAATTCTTCTCCATGCGGTGCAGCATGGCTTCCTGTTTGGCTGTTTTGATGCCGAATGTCTCTCCGGCTACCGTTACGTATATCATCGGCATATGTTCTCTATACGTTA\r\n",
      "3\tlabel|2|.11861_6_61.1-9594/1\tTTCCCCCGCGCAAGGGCAGCAACGATGCCCCGAGCCACATCGCTGGCCGCGACAAAATTTTTGCCACCGGGCGGACAAAACACGATACGACGGCCATACCCCATCAGGATGATGCGTCCCGAACTCGGTCGGGAATCCCATGCACCAATC\r\n"
     ]
    }
   ],
   "source": [
    "!head -n 3 /home/chen/chengxu/LSHVec-master/my/data.seq"
   ],
   "metadata": {
    "collapsed": false,
    "pycharm": {
     "name": "#%%\n"
    }
   }
  },
  {
   "cell_type": "code",
   "execution_count": 10,
   "outputs": [
    {
     "name": "stdout",
     "output_type": "stream",
     "text": [
      "2023-05-24 20:52:51,401 - hashSeq - INFO - start converting...\r\n",
      "2023-05-24 20:52:51,402 - hashSeq - INFO - parameters: {'in_file': '/home/chen/chengxu/LSHVec-master/my/data.seq', 'out_file': '/home/chen/chengxu/LSHVec-master/my/data15.fnv', 'hash_size': 22, 'batch_size': 100000, 'create_lsh_only': False, 'lsh_file': '', 'f': <function convert.<locals>.f at 0x7fe590bc6598>, 'bucket': 20000000, 'hash_fun': 'lsh', 'kmer_size': 15, 'n_thread': 3}\r\n",
      "2023-05-24 20:52:51,402 - hashSeq - INFO - creating hash ...\r\n",
      "100%|████████████████████████████████████████| 660/660 [00:00<00:00, 843.88it/s]\r\n",
      "2023-05-24 20:52:54,053 - hashSeq - INFO - finish creating hash ...\r\n",
      "100%|██████████████████████████████████| 100000/100000 [01:56<00:00, 693.17it/s]\r\n",
      "2023-05-24 20:54:59,498 - hashSeq - INFO - written 100000 lines\r\n",
      "100%|█████████████████████████████████| 100000/100000 [01:29<00:00, 1114.18it/s]\r\n",
      "2023-05-24 20:56:37,585 - hashSeq - INFO - written 200000 lines\r\n",
      "100%|█████████████████████████████████| 100000/100000 [01:30<00:00, 1109.90it/s]\r\n",
      "2023-05-24 20:58:15,799 - hashSeq - INFO - written 300000 lines\r\n",
      "100%|█████████████████████████████████| 100000/100000 [01:29<00:00, 1112.81it/s]\r\n",
      "2023-05-24 20:59:53,930 - hashSeq - INFO - written 400000 lines\r\n",
      "100%|█████████████████████████████████| 100000/100000 [01:29<00:00, 1119.46it/s]\r\n",
      "2023-05-24 21:01:31,860 - hashSeq - INFO - written 500000 lines\r\n",
      "100%|█████████████████████████████████| 100000/100000 [01:29<00:00, 1112.21it/s]\r\n",
      "2023-05-24 21:03:09,897 - hashSeq - INFO - written 600000 lines\r\n",
      "100%|█████████████████████████████████| 100000/100000 [01:31<00:00, 1097.43it/s]\r\n",
      "2023-05-24 21:04:49,238 - hashSeq - INFO - written 700000 lines\r\n",
      "100%|█████████████████████████████████| 100000/100000 [01:29<00:00, 1113.63it/s]\r\n",
      "2023-05-24 21:06:27,255 - hashSeq - INFO - written 800000 lines\r\n",
      "100%|█████████████████████████████████| 100000/100000 [01:30<00:00, 1107.44it/s]\r\n",
      "2023-05-24 21:08:05,774 - hashSeq - INFO - written 900000 lines\r\n",
      "100%|█████████████████████████████████| 100000/100000 [01:29<00:00, 1115.54it/s]\r\n",
      "2023-05-24 21:09:43,486 - hashSeq - INFO - written 1000000 lines\r\n",
      "100%|█████████████████████████████████| 100000/100000 [01:30<00:00, 1104.90it/s]\r\n",
      "2023-05-24 21:11:22,378 - hashSeq - INFO - written 1100000 lines\r\n",
      "100%|█████████████████████████████████| 100000/100000 [01:31<00:00, 1095.23it/s]\r\n",
      "2023-05-24 21:13:01,875 - hashSeq - INFO - written 1200000 lines\r\n",
      "100%|█████████████████████████████████| 100000/100000 [01:29<00:00, 1112.72it/s]\r\n",
      "2023-05-24 21:14:40,040 - hashSeq - INFO - written 1300000 lines\r\n",
      "100%|█████████████████████████████████| 100000/100000 [01:30<00:00, 1106.22it/s]\r\n",
      "2023-05-24 21:16:18,613 - hashSeq - INFO - written 1400000 lines\r\n",
      "100%|█████████████████████████████████| 100000/100000 [01:29<00:00, 1111.38it/s]\r\n",
      "2023-05-24 21:17:56,800 - hashSeq - INFO - written 1500000 lines\r\n",
      "100%|█████████████████████████████████| 100000/100000 [01:30<00:00, 1109.28it/s]\r\n",
      "2023-05-24 21:19:34,918 - hashSeq - INFO - written 1600000 lines\r\n",
      "100%|█████████████████████████████████| 100000/100000 [01:29<00:00, 1112.07it/s]\r\n",
      "2023-05-24 21:21:13,047 - hashSeq - INFO - written 1700000 lines\r\n",
      "100%|█████████████████████████████████| 100000/100000 [01:29<00:00, 1111.37it/s]\r\n",
      "2023-05-24 21:22:51,157 - hashSeq - INFO - written 1800000 lines\r\n",
      "100%|█████████████████████████████████| 100000/100000 [01:30<00:00, 1109.04it/s]\r\n",
      "2023-05-24 21:24:29,430 - hashSeq - INFO - written 1900000 lines\r\n",
      "100%|█████████████████████████████████| 100000/100000 [01:30<00:00, 1110.89it/s]\r\n",
      "2023-05-24 21:26:07,627 - hashSeq - INFO - written 2000000 lines\r\n",
      "100%|█████████████████████████████████| 100000/100000 [01:30<00:00, 1110.22it/s]\r\n",
      "2023-05-24 21:27:45,897 - hashSeq - INFO - written 2100000 lines\r\n",
      "100%|█████████████████████████████████| 100000/100000 [01:30<00:00, 1109.59it/s]\r\n",
      "2023-05-24 21:29:24,327 - hashSeq - INFO - written 2200000 lines\r\n",
      "100%|█████████████████████████████████| 100000/100000 [01:30<00:00, 1109.23it/s]\r\n",
      "2023-05-24 21:31:02,617 - hashSeq - INFO - written 2300000 lines\r\n",
      "100%|█████████████████████████████████| 100000/100000 [01:30<00:00, 1109.07it/s]\r\n",
      "2023-05-24 21:32:41,069 - hashSeq - INFO - written 2400000 lines\r\n",
      "100%|█████████████████████████████████| 100000/100000 [01:30<00:00, 1110.56it/s]\r\n",
      "2023-05-24 21:34:19,366 - hashSeq - INFO - written 2500000 lines\r\n",
      "100%|██████████████████████████████████| 100000/100000 [01:30<00:00, 981.07it/s]\r\n",
      "2023-05-24 21:35:57,650 - hashSeq - INFO - written 2600000 lines\r\n",
      "100%|█████████████████████████████████| 100000/100000 [01:30<00:00, 1110.65it/s]\r\n",
      "2023-05-24 21:37:35,948 - hashSeq - INFO - written 2700000 lines\r\n",
      "100%|█████████████████████████████████| 100000/100000 [01:30<00:00, 1106.91it/s]\r\n",
      "2023-05-24 21:39:14,522 - hashSeq - INFO - written 2800000 lines\r\n",
      "100%|█████████████████████████████████| 100000/100000 [01:30<00:00, 1105.80it/s]\r\n",
      "2023-05-24 21:40:53,253 - hashSeq - INFO - written 2900000 lines\r\n",
      "100%|█████████████████████████████████| 100000/100000 [01:30<00:00, 1107.48it/s]\r\n",
      "2023-05-24 21:42:31,965 - hashSeq - INFO - written 3000000 lines\r\n",
      "100%|█████████████████████████████████| 100000/100000 [01:31<00:00, 1093.71it/s]\r\n",
      "2023-05-24 21:44:11,482 - hashSeq - INFO - written 3100000 lines\r\n",
      "100%|█████████████████████████████████| 100000/100000 [01:30<00:00, 1106.21it/s]\r\n",
      "2023-05-24 21:45:50,110 - hashSeq - INFO - written 3200000 lines\r\n",
      "100%|█████████████████████████████████| 100000/100000 [01:30<00:00, 1106.89it/s]\r\n",
      "2023-05-24 21:47:28,592 - hashSeq - INFO - written 3300000 lines\r\n",
      "100%|█████████████████████████████████| 100000/100000 [01:30<00:00, 1086.55it/s]\r\n",
      "2023-05-24 21:49:07,128 - hashSeq - INFO - written 3400000 lines\r\n",
      "100%|█████████████████████████████████| 100000/100000 [01:30<00:00, 1108.10it/s]\r\n",
      "2023-05-24 21:50:45,655 - hashSeq - INFO - written 3500000 lines\r\n",
      "100%|█████████████████████████████████| 100000/100000 [01:31<00:00, 1092.48it/s]\r\n",
      "2023-05-24 21:52:25,405 - hashSeq - INFO - written 3600000 lines\r\n",
      "100%|█████████████████████████████████| 100000/100000 [01:30<00:00, 1107.04it/s]\r\n",
      "2023-05-24 21:54:03,872 - hashSeq - INFO - written 3700000 lines\r\n",
      "100%|█████████████████████████████████| 100000/100000 [01:33<00:00, 1068.30it/s]\r\n",
      "2023-05-24 21:55:46,006 - hashSeq - INFO - written 3800000 lines\r\n",
      "100%|█████████████████████████████████| 100000/100000 [01:32<00:00, 1085.46it/s]\r\n",
      "2023-05-24 21:57:26,314 - hashSeq - INFO - written 3900000 lines\r\n",
      "100%|█████████████████████████████████| 100000/100000 [01:30<00:00, 1105.26it/s]\r\n",
      "2023-05-24 21:59:04,995 - hashSeq - INFO - written 4000000 lines\r\n",
      "100%|█████████████████████████████████| 100000/100000 [01:30<00:00, 1103.79it/s]\r\n",
      "2023-05-24 22:00:43,804 - hashSeq - INFO - written 4100000 lines\r\n",
      "100%|█████████████████████████████████| 100000/100000 [01:30<00:00, 1105.93it/s]\r\n",
      "2023-05-24 22:02:22,395 - hashSeq - INFO - written 4200000 lines\r\n",
      "100%|█████████████████████████████████| 100000/100000 [01:30<00:00, 1104.53it/s]\r\n",
      "2023-05-24 22:04:01,047 - hashSeq - INFO - written 4300000 lines\r\n",
      "100%|█████████████████████████████████| 100000/100000 [01:30<00:00, 1101.48it/s]\r\n",
      "2023-05-24 22:05:39,944 - hashSeq - INFO - written 4400000 lines\r\n",
      "100%|█████████████████████████████████| 100000/100000 [01:30<00:00, 1102.94it/s]\r\n",
      "2023-05-24 22:07:18,747 - hashSeq - INFO - written 4500000 lines\r\n",
      "100%|█████████████████████████████████| 100000/100000 [01:30<00:00, 1104.40it/s]\r\n",
      "2023-05-24 22:08:57,424 - hashSeq - INFO - written 4600000 lines\r\n",
      "100%|█████████████████████████████████| 100000/100000 [01:30<00:00, 1104.72it/s]\r\n",
      "2023-05-24 22:10:36,155 - hashSeq - INFO - written 4700000 lines\r\n",
      "100%|█████████████████████████████████| 100000/100000 [01:30<00:00, 1104.64it/s]\r\n",
      "2023-05-24 22:12:14,945 - hashSeq - INFO - written 4800000 lines\r\n",
      "100%|█████████████████████████████████| 100000/100000 [01:30<00:00, 1103.46it/s]\r\n",
      "2023-05-24 22:13:53,691 - hashSeq - INFO - written 4900000 lines\r\n",
      "100%|█████████████████████████████████| 100000/100000 [01:30<00:00, 1101.83it/s]\r\n",
      "2023-05-24 22:15:32,615 - hashSeq - INFO - written 5000000 lines\r\n",
      "100%|█████████████████████████████████| 100000/100000 [01:30<00:00, 1100.41it/s]\r\n",
      "2023-05-24 22:17:11,674 - hashSeq - INFO - written 5100000 lines\r\n",
      "100%|█████████████████████████████████| 100000/100000 [01:30<00:00, 1102.04it/s]\r\n",
      "2023-05-24 22:18:50,591 - hashSeq - INFO - written 5200000 lines\r\n",
      "100%|█████████████████████████████████| 100000/100000 [01:30<00:00, 1103.38it/s]\r\n",
      "2023-05-24 22:20:29,236 - hashSeq - INFO - written 5300000 lines\r\n",
      "100%|█████████████████████████████████| 100000/100000 [01:30<00:00, 1099.96it/s]\r\n",
      "2023-05-24 22:22:08,333 - hashSeq - INFO - written 5400000 lines\r\n",
      "100%|█████████████████████████████████| 100000/100000 [01:30<00:00, 1103.44it/s]\r\n",
      "2023-05-24 22:23:47,124 - hashSeq - INFO - written 5500000 lines\r\n",
      "100%|█████████████████████████████████| 100000/100000 [01:30<00:00, 1102.68it/s]\r\n",
      "2023-05-24 22:25:25,980 - hashSeq - INFO - written 5600000 lines\r\n",
      "100%|█████████████████████████████████| 100000/100000 [01:30<00:00, 1103.59it/s]\r\n",
      "2023-05-24 22:27:04,746 - hashSeq - INFO - written 5700000 lines\r\n",
      "100%|█████████████████████████████████| 100000/100000 [01:31<00:00, 1094.39it/s]\r\n",
      "2023-05-24 22:28:44,187 - hashSeq - INFO - written 5800000 lines\r\n",
      "100%|█████████████████████████████████| 100000/100000 [01:30<00:00, 1101.65it/s]\r\n",
      "2023-05-24 22:30:22,983 - hashSeq - INFO - written 5900000 lines\r\n",
      "100%|█████████████████████████████████| 100000/100000 [01:30<00:00, 1100.36it/s]\r\n",
      "2023-05-24 22:32:02,225 - hashSeq - INFO - written 6000000 lines\r\n",
      "100%|█████████████████████████████████| 100000/100000 [01:30<00:00, 1099.83it/s]\r\n",
      "2023-05-24 22:33:41,341 - hashSeq - INFO - written 6100000 lines\r\n",
      "100%|█████████████████████████████████| 100000/100000 [01:30<00:00, 1099.13it/s]\r\n",
      "2023-05-24 22:35:20,553 - hashSeq - INFO - written 6200000 lines\r\n",
      "100%|█████████████████████████████████| 100000/100000 [01:30<00:00, 1100.18it/s]\r\n",
      "2023-05-24 22:36:59,772 - hashSeq - INFO - written 6300000 lines\r\n",
      "100%|█████████████████████████████████| 100000/100000 [01:31<00:00, 1098.56it/s]\r\n",
      "2023-05-24 22:38:39,007 - hashSeq - INFO - written 6400000 lines\r\n",
      "100%|█████████████████████████████████| 100000/100000 [01:30<00:00, 1099.78it/s]\r\n",
      "2023-05-24 22:40:18,203 - hashSeq - INFO - written 6500000 lines\r\n",
      "100%|█████████████████████████████████| 100000/100000 [01:30<00:00, 1099.24it/s]\r\n",
      "2023-05-24 22:41:57,406 - hashSeq - INFO - written 6600000 lines\r\n",
      "100%|█████████████████████████████████| 100000/100000 [01:31<00:00, 1093.72it/s]\r\n",
      "2023-05-24 22:43:36,975 - hashSeq - INFO - written 6700000 lines\r\n",
      "100%|█████████████████████████████████| 100000/100000 [01:31<00:00, 1059.18it/s]\r\n",
      "2023-05-24 22:45:17,021 - hashSeq - INFO - written 6800000 lines\r\n",
      "100%|█████████████████████████████████| 100000/100000 [01:32<00:00, 1082.41it/s]\r\n",
      "2023-05-24 22:46:57,670 - hashSeq - INFO - written 6900000 lines\r\n",
      "100%|█████████████████████████████████| 100000/100000 [01:31<00:00, 1098.04it/s]\r\n",
      "2023-05-24 22:48:36,892 - hashSeq - INFO - written 7000000 lines\r\n",
      "100%|█████████████████████████████████| 100000/100000 [01:31<00:00, 1092.93it/s]\r\n",
      "2023-05-24 22:50:16,641 - hashSeq - INFO - written 7100000 lines\r\n",
      "100%|█████████████████████████████████| 100000/100000 [01:32<00:00, 1080.80it/s]\r\n",
      "2023-05-24 22:51:57,321 - hashSeq - INFO - written 7200000 lines\r\n",
      "100%|█████████████████████████████████| 100000/100000 [01:30<00:00, 1103.58it/s]\r\n",
      "2023-05-24 22:53:36,093 - hashSeq - INFO - written 7300000 lines\r\n",
      "100%|█████████████████████████████████| 100000/100000 [01:31<00:00, 1097.11it/s]\r\n",
      "2023-05-24 22:55:15,483 - hashSeq - INFO - written 7400000 lines\r\n",
      "100%|█████████████████████████████████| 100000/100000 [01:31<00:00, 1093.63it/s]\r\n",
      "2023-05-24 22:56:54,961 - hashSeq - INFO - written 7500000 lines\r\n",
      "100%|█████████████████████████████████| 100000/100000 [01:31<00:00, 1098.73it/s]\r\n",
      "2023-05-24 22:58:34,124 - hashSeq - INFO - written 7600000 lines\r\n",
      "100%|█████████████████████████████████| 100000/100000 [01:31<00:00, 1096.86it/s]\r\n",
      "2023-05-24 23:00:13,380 - hashSeq - INFO - written 7700000 lines\r\n",
      "100%|█████████████████████████████████| 100000/100000 [01:31<00:00, 1098.73it/s]\r\n",
      "2023-05-24 23:01:52,610 - hashSeq - INFO - written 7800000 lines\r\n",
      "100%|███████████████████████████████████| 67702/67702 [01:02<00:00, 1090.40it/s]\r\n",
      "2023-05-24 23:03:00,480 - hashSeq - INFO - written 7867702 lines\r\n",
      "2023-05-24 23:03:00,480 - hashSeq - INFO - finish converting...\r\n"
     ]
    }
   ],
   "source": [
    "!python /home/chen/chengxu/LSHVec-master/scripts/fastseq/hashSeq.py -i /home/chen/chengxu/LSHVec-master/my/data.seq --hash lsh -o /home/chen/chengxu/LSHVec-master/my/data15.fnv -k 15"
   ],
   "metadata": {
    "collapsed": false,
    "pycharm": {
     "name": "#%%\n"
    }
   }
  },
  {
   "cell_type": "code",
   "execution_count": null,
   "outputs": [],
   "source": [
    "import numpy as np\n",
    "def read_embedding(fname):\n",
    "    with open(fname) as fin:\n",
    "        lines=list(fin)\n",
    "    assert len(lines)>1\n",
    "    first_line=lines[0]\n",
    "    num_word, dim_vec = [int(u) for u in first_line.split(\" \")]\n",
    "    assert len(lines)==num_word+1\n",
    "    ret ={}\n",
    "    for line in lines[1:]:\n",
    "        lst = line.strip().split(\" \")\n",
    "        assert len(lst)==dim_vec+1, line\n",
    "        if lst[0]=='</s>': continue\n",
    "        word = int(lst[0])\n",
    "        vec = np.array([float(u) for u in lst[1:]])\n",
    "        ret[word]=vec\n",
    "    return ret,dim_vec\n",
    "embedding,dim_vec = read_embedding(\"/home/chen/chengxu/LSHVec-master/my/lshvec.vec\")\n",
    "seqvectors = []\n",
    "with open(\"/home/chen/chengxu/LSHVec-master/my/data15.fnv\") as fin:\n",
    "    lines = list(fin)\n",
    "for i,line in enumerate(lines):\n",
    "    words = [int(u) for u in line.strip().split(\" \")]\n",
    "    vec = [embedding[u] for u in words if u in embedding]\n",
    "    seqvectors.append(np.mean(vec,0) if len(vec)>0 else None)#np.zeros([dim_vec],dtype=np.float32))"
   ],
   "metadata": {
    "collapsed": false,
    "pycharm": {
     "name": "#%%\n",
     "is_executing": true
    }
   }
  },
  {
   "cell_type": "code",
   "execution_count": 2,
   "outputs": [
    {
     "ename": "NameError",
     "evalue": "name 'seqvectors' is not defined",
     "output_type": "error",
     "traceback": [
      "\u001B[0;31m---------------------------------------------------------------------------\u001B[0m",
      "\u001B[0;31mNameError\u001B[0m                                 Traceback (most recent call last)",
      "\u001B[0;32m<ipython-input-2-581e72491a5f>\u001B[0m in \u001B[0;36m<module>\u001B[0;34m\u001B[0m\n\u001B[0;32m----> 1\u001B[0;31m \u001B[0mseqvectors\u001B[0m\u001B[0;34m[\u001B[0m\u001B[0;34m:\u001B[0m\u001B[0;36m2\u001B[0m\u001B[0;34m]\u001B[0m\u001B[0;34m\u001B[0m\u001B[0;34m\u001B[0m\u001B[0m\n\u001B[0m\u001B[1;32m      2\u001B[0m \u001B[0;31m#vec[:2]\u001B[0m\u001B[0;34m\u001B[0m\u001B[0;34m\u001B[0m\u001B[0;34m\u001B[0m\u001B[0m\n\u001B[1;32m      3\u001B[0m \u001B[0;32mimport\u001B[0m \u001B[0mpandas\u001B[0m \u001B[0;32mas\u001B[0m \u001B[0mpd\u001B[0m\u001B[0;34m\u001B[0m\u001B[0;34m\u001B[0m\u001B[0m\n\u001B[1;32m      4\u001B[0m \u001B[0mseqs\u001B[0m \u001B[0;34m=\u001B[0m \u001B[0mpd\u001B[0m\u001B[0;34m.\u001B[0m\u001B[0mread_csv\u001B[0m\u001B[0;34m(\u001B[0m\u001B[0;34m\"/home/chen/chengxu/LSHVec-master/my/data.seq\"\u001B[0m\u001B[0;34m,\u001B[0m\u001B[0msep\u001B[0m\u001B[0;34m=\u001B[0m\u001B[0;34m'\\t'\u001B[0m\u001B[0;34m,\u001B[0m \u001B[0mheader\u001B[0m\u001B[0;34m=\u001B[0m\u001B[0;32mNone\u001B[0m\u001B[0;34m,\u001B[0m \u001B[0musecols\u001B[0m\u001B[0;34m=\u001B[0m\u001B[0;34m[\u001B[0m\u001B[0;36m0\u001B[0m\u001B[0;34m,\u001B[0m\u001B[0;36m1\u001B[0m\u001B[0;34m]\u001B[0m\u001B[0;34m,\u001B[0m\u001B[0mindex_col\u001B[0m\u001B[0;34m=\u001B[0m\u001B[0;36m0\u001B[0m\u001B[0;34m)\u001B[0m\u001B[0;34m\u001B[0m\u001B[0;34m\u001B[0m\u001B[0m\n\u001B[1;32m      5\u001B[0m \u001B[0mseqs\u001B[0m\u001B[0;34m.\u001B[0m\u001B[0mcolumns\u001B[0m\u001B[0;34m=\u001B[0m\u001B[0;34m[\u001B[0m\u001B[0;34m'id'\u001B[0m\u001B[0;34m]\u001B[0m\u001B[0;34m\u001B[0m\u001B[0;34m\u001B[0m\u001B[0m\n",
      "\u001B[0;31mNameError\u001B[0m: name 'seqvectors' is not defined"
     ]
    }
   ],
   "source": [
    "seqvectors[:2]\n",
    "#vec[:2]"
   ],
   "metadata": {
    "collapsed": false,
    "pycharm": {
     "name": "#%%\n"
    }
   }
  },
  {
   "cell_type": "code",
   "execution_count": 1,
   "outputs": [
    {
     "name": "stderr",
     "output_type": "stream",
     "text": [
      "/home/chen/anaconda3/lib/python3.7/site-packages/numpy/lib/arraysetops.py:580: FutureWarning: elementwise comparison failed; returning scalar instead, but in the future will perform elementwise comparison\n",
      "  mask |= (ar1 == a)\n"
     ]
    },
    {
     "ename": "NameError",
     "evalue": "name 'seqvectors' is not defined",
     "output_type": "error",
     "traceback": [
      "\u001B[0;31m---------------------------------------------------------------------------\u001B[0m",
      "\u001B[0;31mNameError\u001B[0m                                 Traceback (most recent call last)",
      "\u001B[0;32m<ipython-input-1-8f53b048b113>\u001B[0m in \u001B[0;36m<module>\u001B[0;34m\u001B[0m\n\u001B[1;32m      3\u001B[0m \u001B[0mseqs\u001B[0m\u001B[0;34m.\u001B[0m\u001B[0mcolumns\u001B[0m\u001B[0;34m=\u001B[0m\u001B[0;34m[\u001B[0m\u001B[0;34m'id'\u001B[0m\u001B[0;34m]\u001B[0m\u001B[0;34m\u001B[0m\u001B[0;34m\u001B[0m\u001B[0m\n\u001B[1;32m      4\u001B[0m \u001B[0mseqs\u001B[0m\u001B[0;34m[\u001B[0m\u001B[0;34m'special'\u001B[0m\u001B[0;34m]\u001B[0m \u001B[0;34m=\u001B[0m \u001B[0mseqs\u001B[0m\u001B[0;34m[\u001B[0m\u001B[0;34m'id'\u001B[0m\u001B[0;34m]\u001B[0m\u001B[0;34m.\u001B[0m\u001B[0mapply\u001B[0m\u001B[0;34m(\u001B[0m\u001B[0;32mlambda\u001B[0m \u001B[0mx\u001B[0m\u001B[0;34m:\u001B[0m \u001B[0mx\u001B[0m\u001B[0;34m.\u001B[0m\u001B[0msplit\u001B[0m\u001B[0;34m(\u001B[0m\u001B[0;34m\"|\"\u001B[0m\u001B[0;34m)\u001B[0m\u001B[0;34m[\u001B[0m\u001B[0;36m1\u001B[0m\u001B[0;34m]\u001B[0m\u001B[0;34m)\u001B[0m\u001B[0;34m\u001B[0m\u001B[0;34m\u001B[0m\u001B[0m\n\u001B[0;32m----> 5\u001B[0;31m \u001B[0mseqs\u001B[0m\u001B[0;34m[\u001B[0m\u001B[0;34m'vec'\u001B[0m\u001B[0;34m]\u001B[0m\u001B[0;34m=\u001B[0m\u001B[0mseqvectors\u001B[0m\u001B[0;34m\u001B[0m\u001B[0;34m\u001B[0m\u001B[0m\n\u001B[0m\u001B[1;32m      6\u001B[0m \u001B[0mseqs\u001B[0m\u001B[0;34m.\u001B[0m\u001B[0mdrop\u001B[0m\u001B[0;34m(\u001B[0m\u001B[0;34m'id'\u001B[0m\u001B[0;34m,\u001B[0m\u001B[0maxis\u001B[0m\u001B[0;34m=\u001B[0m\u001B[0;36m1\u001B[0m\u001B[0;34m,\u001B[0m\u001B[0minplace\u001B[0m\u001B[0;34m=\u001B[0m\u001B[0;32mTrue\u001B[0m\u001B[0;34m)\u001B[0m\u001B[0;34m\u001B[0m\u001B[0;34m\u001B[0m\u001B[0m\n\u001B[1;32m      7\u001B[0m \u001B[0mseqs\u001B[0m\u001B[0;34m=\u001B[0m\u001B[0mseqs\u001B[0m\u001B[0;34m[\u001B[0m\u001B[0;34m~\u001B[0m\u001B[0mseqs\u001B[0m\u001B[0;34m[\u001B[0m\u001B[0;34m'vec'\u001B[0m\u001B[0;34m]\u001B[0m\u001B[0;34m.\u001B[0m\u001B[0misnull\u001B[0m\u001B[0;34m(\u001B[0m\u001B[0;34m)\u001B[0m\u001B[0;34m]\u001B[0m\u001B[0;34m\u001B[0m\u001B[0;34m\u001B[0m\u001B[0m\n",
      "\u001B[0;31mNameError\u001B[0m: name 'seqvectors' is not defined"
     ]
    }
   ],
   "source": [
    "import pandas as pd\n",
    "seqs = pd.read_csv(\"/home/chen/chengxu/LSHVec-master/my/data.seq\",sep='\\t', header=None, usecols=[0,1],index_col=0)\n",
    "seqs.columns=['id']\n",
    "seqs['special'] = seqs['id'].apply(lambda x: x.split(\"|\")[1])\n",
    "seqs['vec']=seqvectors\n",
    "seqs.drop('id',axis=1,inplace=True)\n",
    "seqs=seqs[~seqs['vec'].isnull()]\n",
    "seqs['special'].head(5)"
   ],
   "metadata": {
    "collapsed": false,
    "pycharm": {
     "name": "#%%\n"
    }
   }
  },
  {
   "cell_type": "code",
   "execution_count": 1,
   "outputs": [
    {
     "ename": "NameError",
     "evalue": "name 'seqs' is not defined",
     "output_type": "error",
     "traceback": [
      "\u001B[0;31m---------------------------------------------------------------------------\u001B[0m",
      "\u001B[0;31mNameError\u001B[0m                                 Traceback (most recent call last)",
      "\u001B[0;32m<ipython-input-1-1f3316d3df38>\u001B[0m in \u001B[0;36m<module>\u001B[0;34m\u001B[0m\n\u001B[1;32m      1\u001B[0m \u001B[0;32mimport\u001B[0m \u001B[0mmatplotlib\u001B[0m\u001B[0;34m.\u001B[0m\u001B[0mpyplot\u001B[0m \u001B[0;32mas\u001B[0m \u001B[0mplt\u001B[0m\u001B[0;34m\u001B[0m\u001B[0;34m\u001B[0m\u001B[0m\n\u001B[1;32m      2\u001B[0m \u001B[0;32mfrom\u001B[0m \u001B[0mMulticoreTSNE\u001B[0m \u001B[0;32mimport\u001B[0m \u001B[0mMulticoreTSNE\u001B[0m \u001B[0;32mas\u001B[0m \u001B[0mTSNE\u001B[0m\u001B[0;34m\u001B[0m\u001B[0;34m\u001B[0m\u001B[0m\n\u001B[0;32m----> 3\u001B[0;31m \u001B[0mseqss\u001B[0m\u001B[0;34m=\u001B[0m\u001B[0mseqs\u001B[0m\u001B[0;34m.\u001B[0m\u001B[0msample\u001B[0m\u001B[0;34m(\u001B[0m\u001B[0;36m10000\u001B[0m\u001B[0;34m,\u001B[0m\u001B[0mreplace\u001B[0m\u001B[0;34m=\u001B[0m\u001B[0;32mFalse\u001B[0m\u001B[0;34m)\u001B[0m\u001B[0;34m\u001B[0m\u001B[0;34m\u001B[0m\u001B[0m\n\u001B[0m\u001B[1;32m      4\u001B[0m \u001B[0mtsne\u001B[0m \u001B[0;34m=\u001B[0m \u001B[0mTSNE\u001B[0m\u001B[0;34m(\u001B[0m\u001B[0mn_components\u001B[0m\u001B[0;34m=\u001B[0m\u001B[0;36m2\u001B[0m\u001B[0;34m,\u001B[0m \u001B[0mperplexity\u001B[0m\u001B[0;34m=\u001B[0m\u001B[0;36m100\u001B[0m\u001B[0;34m,\u001B[0m \u001B[0mn_jobs\u001B[0m\u001B[0;34m=\u001B[0m\u001B[0;36m8\u001B[0m\u001B[0;34m)\u001B[0m\u001B[0;34m\u001B[0m\u001B[0;34m\u001B[0m\u001B[0m\n\u001B[1;32m      5\u001B[0m \u001B[0mX\u001B[0m\u001B[0;34m=\u001B[0m\u001B[0mnp\u001B[0m\u001B[0;34m.\u001B[0m\u001B[0marray\u001B[0m\u001B[0;34m(\u001B[0m\u001B[0mlist\u001B[0m\u001B[0;34m(\u001B[0m\u001B[0mseqss\u001B[0m\u001B[0;34m[\u001B[0m\u001B[0;34m'vec'\u001B[0m\u001B[0;34m]\u001B[0m\u001B[0;34m.\u001B[0m\u001B[0mvalues\u001B[0m\u001B[0;34m)\u001B[0m\u001B[0;34m)\u001B[0m\u001B[0;34m\u001B[0m\u001B[0;34m\u001B[0m\u001B[0m\n",
      "\u001B[0;31mNameError\u001B[0m: name 'seqs' is not defined"
     ]
    }
   ],
   "source": [
    "import matplotlib.pyplot as plt\n",
    "from MulticoreTSNE import MulticoreTSNE as TSNE\n",
    "seqss=seqs.sample(10000,replace=False)\n",
    "tsne = TSNE(n_components=2, perplexity=100, n_jobs=8)\n",
    "X=np.array(list(seqss['vec'].values))\n",
    "X.shape\n",
    "%time Y = tsne.fit_transform(X)\n",
    "labels=seqss['special'].values\n",
    "plt.scatter(Y[labels][:,0],Y[labels][:,1],alpha=1,s=1)\n",
    "plt.scatter(Y[~labels][:,0],Y[~labels][:,1],alpha=0.5,s=1)\n",
    "plt.legend(['spike','non-spike'])\n"
   ],
   "metadata": {
    "collapsed": false,
    "pycharm": {
     "name": "#%%\n"
    }
   }
  }
 ],
 "metadata": {
  "kernelspec": {
   "display_name": "Python 3",
   "language": "python",
   "name": "python3"
  },
  "language_info": {
   "codemirror_mode": {
    "name": "ipython",
    "version": 2
   },
   "file_extension": ".py",
   "mimetype": "text/x-python",
   "name": "python",
   "nbconvert_exporter": "python",
   "pygments_lexer": "ipython2",
   "version": "2.7.6"
  }
 },
 "nbformat": 4,
 "nbformat_minor": 0
}